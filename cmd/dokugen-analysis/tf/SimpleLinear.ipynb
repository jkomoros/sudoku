{
 "cells": [
  {
   "cell_type": "code",
   "execution_count": 1,
   "metadata": {
    "collapsed": false
   },
   "outputs": [],
   "source": [
    "#Based on https://github.com/aymericdamien/TensorFlow-Examples/blob/master/notebooks/2_BasicModels/linear_regression.ipynb\n",
    "import tensorflow as tf\n",
    "import numpy\n",
    "import csv\n",
    "import datetime\n",
    "rng = numpy.random"
   ]
  },
  {
   "cell_type": "code",
   "execution_count": 2,
   "metadata": {
    "collapsed": true
   },
   "outputs": [],
   "source": [
    "# Parameters\n",
    "learning_rate = 0.003\n",
    "training_epochs = 1000\n",
    "display_step = 50\n",
    "#We turned this off before becuase it appeared to not be necessary, but it turns out it can bounce back up\n",
    "#if it's off.\n",
    "DO_NORMALIZE = True"
   ]
  },
  {
   "cell_type": "code",
   "execution_count": 3,
   "metadata": {
    "collapsed": false
   },
   "outputs": [],
   "source": [
    "#Training data\n",
    "csv = numpy.genfromtxt(\"solves.csv\", skip_header=1, delimiter=\",\")\n",
    "train_difficulty = csv[:, 0]\n",
    "train_features = csv[:, 1:]"
   ]
  },
  {
   "cell_type": "code",
   "execution_count": 4,
   "metadata": {
    "collapsed": false
   },
   "outputs": [],
   "source": [
    "#number of training samples\n",
    "n_samples = train_difficulty.shape[0]\n",
    "\n",
    "#number of features\n",
    "feature_length = train_features.shape[1]"
   ]
  },
  {
   "cell_type": "code",
   "execution_count": 5,
   "metadata": {
    "collapsed": false
   },
   "outputs": [
    {
     "name": "stdout",
     "output_type": "stream",
     "text": [
      "Normalizing\n"
     ]
    }
   ],
   "source": [
    "#Normalize all of the columns to be between -0.5 and 0.5 with a smooth distribution\n",
    "if DO_NORMALIZE:\n",
    "    #TODO: we need to save the maxVal so other folks in the model can normalize appropriately\n",
    "    #TODO: figure out a better way to normalize these; right now many of them are squishing at -0.5 since their\n",
    "    #distributions are often very left-skewed\n",
    "    print(\"Normalizing\")\n",
    "    for colNum in xrange(0, feature_length):\n",
    "        col = train_features[:,colNum]\n",
    "        maxVal = max(col)\n",
    "        if maxVal == 0:\n",
    "            maxVal = 1\n",
    "        for index in xrange(0, len(col)):\n",
    "            col[index] = (col[index] - (maxVal / 2)) / maxVal\n",
    "else:\n",
    "    print(\"Skipping normalizing\")"
   ]
  },
  {
   "cell_type": "code",
   "execution_count": 6,
   "metadata": {
    "collapsed": false
   },
   "outputs": [],
   "source": [
    "\n",
    "# tf Graph Input\n",
    "Difficulty = tf.placeholder(\"float\", shape=(None))\n",
    "Features = tf.placeholder(\"float\", shape=(None, feature_length))\n",
    "\n",
    "# Set model weights\n",
    "W = tf.Variable(tf.random_normal([feature_length, 1], stddev=0.25), name=\"weight\")\n",
    "b = tf.Variable(rng.randn(), name=\"bias\")"
   ]
  },
  {
   "cell_type": "code",
   "execution_count": 7,
   "metadata": {
    "collapsed": false
   },
   "outputs": [],
   "source": [
    "# Construct a linear model\n",
    "\n",
    "#Got this calculation from http://stackoverflow.com/questions/33698510/use-attribute-and-target-matrices-for-tensorflow-linear-regression-python‘\n",
    "pred = tf.add(tf.matmul(Features, W), b)"
   ]
  },
  {
   "cell_type": "code",
   "execution_count": 8,
   "metadata": {
    "collapsed": true
   },
   "outputs": [],
   "source": [
    "#TODO: calculate R2 and output it over time\n",
    "# Mean squared error\n",
    "with tf.name_scope(\"cost\") as scope:\n",
    "    \n",
    "    cost = tf.reduce_sum(tf.square(Difficulty - pred))\n",
    "    cost_summ = tf.scalar_summary(\"cost\", cost)\n",
    "# Gradient descent\n",
    "with tf.name_scope(\"optimize\") as scope:\n",
    "    optimizer = tf.train.GradientDescentOptimizer(learning_rate).minimize(cost)"
   ]
  },
  {
   "cell_type": "code",
   "execution_count": 9,
   "metadata": {
    "collapsed": true
   },
   "outputs": [],
   "source": [
    "#Summary ops to collect data\n",
    "#The use of tensorboard is adapted from the example on https://www.tensorflow.org/versions/r0.7/how_tos/summaries_and_tensorboard/index.html\n",
    "w_hist = tf.histogram_summary(\"weights\", W)\n",
    "b_hist = tf.histogram_summary(\"biases\", b)\n",
    "difficulty_hist = tf.histogram_summary(\"difficulty\", Difficulty)"
   ]
  },
  {
   "cell_type": "code",
   "execution_count": null,
   "metadata": {
    "collapsed": true
   },
   "outputs": [],
   "source": [
    "# Initializing the variables\n",
    "init = tf.initialize_all_variables()"
   ]
  },
  {
   "cell_type": "code",
   "execution_count": null,
   "metadata": {
    "collapsed": false,
    "scrolled": false
   },
   "outputs": [],
   "source": [
    "# Launch the graph\n",
    "\n",
    "#TODO: do STOCHASTIC gradient descent (or Adagrad optimizer?)\n",
    "#TODO: consider doing L2 Regularization\n",
    "#TODO: consider doing drop out\n",
    "with tf.Session() as sess:\n",
    "\n",
    "    merged = tf.merge_all_summaries()\n",
    "    runname = datetime.datetime.now().strftime(\"%Y-%m-%d %H:%M:%S\")\n",
    "    writer = tf.train.SummaryWriter(\"tmp/linear_logs/\" + runname, sess.graph_def)\n",
    "\n",
    "    sess.run(init)\n",
    "\n",
    "    # Fit all training data\n",
    "    for epoch in range(training_epochs):\n",
    "        for (features, difficulty) in zip(train_features, train_difficulty):\n",
    "            sess.run(optimizer, feed_dict={Features: [features], Difficulty: [difficulty]})\n",
    "\n",
    "        #Display logs per epoch step\n",
    "        if (epoch+1) % display_step == 0:\n",
    "            result = sess.run([merged,cost], feed_dict={Features: train_features, Difficulty: train_difficulty})\n",
    "            summary_str = result[0]\n",
    "            c = result[1]\n",
    "            writer.add_summary(summary_str, epoch)\n",
    "            print \"Epoch:\", '%04d' % (epoch+1), \"cost=\", \"{:.9f}\".format(c), \\\n",
    "                \"W=\", sess.run(W), \"b=\", sess.run(b)\n",
    "\n",
    "    print \"Optimization Finished!\"\n",
    "    training_cost = sess.run(cost, feed_dict={Features: train_features, Difficulty: train_difficulty})\n",
    "    print \"Training cost=\", training_cost, \"W=\", sess.run(W), \"b=\", sess.run(b), '\\n'\n"
   ]
  },
  {
   "cell_type": "code",
   "execution_count": null,
   "metadata": {
    "collapsed": true,
    "scrolled": true
   },
   "outputs": [],
   "source": [
    "#TODO: output the model with bias, cost, and weights all zipped up with their names"
   ]
  }
 ],
 "metadata": {
  "kernelspec": {
   "display_name": "Python 2",
   "language": "python",
   "name": "python2"
  },
  "language_info": {
   "codemirror_mode": {
    "name": "ipython",
    "version": 2
   },
   "file_extension": ".py",
   "mimetype": "text/x-python",
   "name": "python",
   "nbconvert_exporter": "python",
   "pygments_lexer": "ipython2",
   "version": "2.7.11"
  }
 },
 "nbformat": 4,
 "nbformat_minor": 0
}
